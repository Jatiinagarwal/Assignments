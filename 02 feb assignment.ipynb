{
 "cells": [
  {
   "cell_type": "code",
   "execution_count": 1,
   "id": "7fb4ce72-e113-4d01-923f-2e9894ff6e9e",
   "metadata": {},
   "outputs": [
    {
     "data": {
      "text/plain": [
       "'Characteristics of Tuples\\nThey are indexed.\\nTuples are ordered.\\nThese are immutable.\\nThey can contain duplicate items\\nWe can also define tuples as lists that we cannot change.\\nTherefore, we can call them immutable tuples. Hence, tuples are not modifiable in nature.\\nThese immutable tuples are a kind of group data type.'"
      ]
     },
     "execution_count": 1,
     "metadata": {},
     "output_type": "execute_result"
    }
   ],
   "source": [
    "'''Characteristics of Tuples\n",
    "They are indexed.\n",
    "Tuples are ordered.\n",
    "These are immutable.\n",
    "They can contain duplicate items\n",
    "We can also define tuples as lists that we cannot change.\n",
    "Therefore, we can call them immutable tuples. Hence, tuples are not modifiable in nature.\n",
    "These immutable tuples are a kind of group data type.'''"
   ]
  },
  {
   "cell_type": "code",
   "execution_count": null,
   "id": "d6d0aed6-bfa3-497c-984e-9e334ef56d69",
   "metadata": {},
   "outputs": [],
   "source": []
  },
  {
   "cell_type": "code",
   "execution_count": 2,
   "id": "4329f282-dd57-4ca8-a9b1-53b4b57fb486",
   "metadata": {},
   "outputs": [
    {
     "data": {
      "text/plain": [
       "'Python has two built-in methods that you can use on tuples.\\nindex()\\ncount()'"
      ]
     },
     "execution_count": 2,
     "metadata": {},
     "output_type": "execute_result"
    }
   ],
   "source": [
    "'''Python has two built-in methods that you can use on tuples.\n",
    "index()\n",
    "count()'''"
   ]
  },
  {
   "cell_type": "code",
   "execution_count": null,
   "id": "2ea6baac-453c-42f7-a446-3b37c1ecab54",
   "metadata": {},
   "outputs": [],
   "source": []
  },
  {
   "cell_type": "code",
   "execution_count": 3,
   "id": "ff036754-c78d-416d-90d2-433bbfe8da7a",
   "metadata": {},
   "outputs": [
    {
     "data": {
      "text/plain": [
       "{1, 2, 3, 44}"
      ]
     },
     "execution_count": 3,
     "metadata": {},
     "output_type": "execute_result"
    }
   ],
   "source": [
    "'''set\n",
    "A set is unique in Python. It does not allow duplicates.'''\n",
    "l=[1,1,2,2,2,3,3,3,44,44]\n",
    "set(l)"
   ]
  },
  {
   "cell_type": "code",
   "execution_count": null,
   "id": "478bff13-7014-4329-ac49-d243c2babf8d",
   "metadata": {},
   "outputs": [],
   "source": []
  },
  {
   "cell_type": "code",
   "execution_count": 27,
   "id": "d66be1fe-2514-4cda-85a4-101f6d6169cc",
   "metadata": {},
   "outputs": [
    {
     "data": {
      "text/plain": [
       "{1, 2, 3, 4, 5, 6}"
      ]
     },
     "execution_count": 27,
     "metadata": {},
     "output_type": "execute_result"
    }
   ],
   "source": [
    "'''update() adds all missing elements to the set on which it is called whereas set. union() creates a new set. '''\n",
    "s1={1,2,3,4}\n",
    "s2={2,3,4,5,6}\n",
    "s2.union(s1)"
   ]
  },
  {
   "cell_type": "code",
   "execution_count": 31,
   "id": "10bdc4b1-bc1a-43c7-b0bd-6655f4e0e9d0",
   "metadata": {},
   "outputs": [
    {
     "name": "stdout",
     "output_type": "stream",
     "text": [
      "{1, 2, 3, 4, 5, 6}\n"
     ]
    }
   ],
   "source": [
    "s2.update(s1)\n",
    "print(s2)"
   ]
  },
  {
   "cell_type": "code",
   "execution_count": null,
   "id": "51ad0f9b-2447-44d8-9131-7deb5a2d05c8",
   "metadata": {},
   "outputs": [],
   "source": []
  },
  {
   "cell_type": "code",
   "execution_count": 32,
   "id": "308d3be8-e667-49a6-99e0-537b7a0e3638",
   "metadata": {},
   "outputs": [
    {
     "data": {
      "text/plain": [
       "'A dictionary in Python is a collection of key-value pairs. \\nThe dictionary keys must be unique. The dictionary value may be of any type\\nA dictionary is a collection which is ordered*, changeable and do not allow duplicates.\\nd19 = {\"key1\" : \"value\" , \"key2\" : \"value2\"}'"
      ]
     },
     "execution_count": 32,
     "metadata": {},
     "output_type": "execute_result"
    }
   ],
   "source": [
    "'''A dictionary in Python is a collection of key-value pairs. \n",
    "The dictionary keys must be unique. The dictionary value may be of any type\n",
    "A dictionary is a collection which is ordered*, changeable and do not allow duplicates.\n",
    "d19 = {\"key1\" : \"value\" , \"key2\" : \"value2\"}'''"
   ]
  },
  {
   "cell_type": "code",
   "execution_count": null,
   "id": "11000e5a-d3d1-4340-a82e-df70c5934b19",
   "metadata": {},
   "outputs": [],
   "source": []
  },
  {
   "cell_type": "code",
   "execution_count": 33,
   "id": "2734775a-e871-4621-92c5-1963408aa7bd",
   "metadata": {},
   "outputs": [
    {
     "data": {
      "text/plain": [
       "'nested dictionary\\nd15 = {\"key\" : {\"name\" : \"sudhanshu\" , \"class\" : \"DSM\"}}'"
      ]
     },
     "execution_count": 33,
     "metadata": {},
     "output_type": "execute_result"
    }
   ],
   "source": [
    "'''nested dictionary\n",
    "d15 = {\"key\" : {\"name\" : \"sudhanshu\" , \"class\" : \"DSM\"}}'''"
   ]
  },
  {
   "cell_type": "code",
   "execution_count": null,
   "id": "cdbd17b9-201e-4a2a-b3c1-987555a2dbee",
   "metadata": {},
   "outputs": [],
   "source": []
  },
  {
   "cell_type": "code",
   "execution_count": 36,
   "id": "14dc4df0-5ba4-45fa-88f1-2294142c7f0b",
   "metadata": {},
   "outputs": [],
   "source": [
    "d1={\"topics\":[\"Python\",\"Machine Learning\",\"Deep Learning\"]}"
   ]
  },
  {
   "cell_type": "code",
   "execution_count": 37,
   "id": "9d1e94c6-d329-4325-9171-f18e7c9268f1",
   "metadata": {},
   "outputs": [
    {
     "data": {
      "text/plain": [
       "{'topics': ['Python', 'Machine Learning', 'Deep Learning']}"
      ]
     },
     "execution_count": 37,
     "metadata": {},
     "output_type": "execute_result"
    }
   ],
   "source": [
    "d1"
   ]
  },
  {
   "cell_type": "code",
   "execution_count": null,
   "id": "e1199f6d-4bef-4851-aa5b-d6f462d34ff9",
   "metadata": {},
   "outputs": [],
   "source": []
  },
  {
   "cell_type": "code",
   "execution_count": 42,
   "id": "b1641ff1-1aa2-4ecf-9b7d-955c9c6fcb54",
   "metadata": {},
   "outputs": [],
   "source": [
    "#The main view objects of dictionary in python are keys, values and items.\n",
    "d12={\"key\" : {\"name\" : \"sudhanshu\" , \"class\" : \"DSM\"}}"
   ]
  },
  {
   "cell_type": "code",
   "execution_count": 43,
   "id": "3d9bb3b3-711b-474a-acab-e7c42609ca4e",
   "metadata": {},
   "outputs": [
    {
     "data": {
      "text/plain": [
       "dict_keys(['key'])"
      ]
     },
     "execution_count": 43,
     "metadata": {},
     "output_type": "execute_result"
    }
   ],
   "source": [
    "d12.keys()"
   ]
  },
  {
   "cell_type": "code",
   "execution_count": 44,
   "id": "aafb1bd3-5128-40bb-b9b0-47dc22f04ad4",
   "metadata": {},
   "outputs": [
    {
     "data": {
      "text/plain": [
       "dict_values([{'name': 'sudhanshu', 'class': 'DSM'}])"
      ]
     },
     "execution_count": 44,
     "metadata": {},
     "output_type": "execute_result"
    }
   ],
   "source": [
    "d12.values()"
   ]
  },
  {
   "cell_type": "code",
   "execution_count": 45,
   "id": "28e59e87-5ac2-41e8-a138-f4174782dc84",
   "metadata": {},
   "outputs": [
    {
     "data": {
      "text/plain": [
       "dict_items([('key', {'name': 'sudhanshu', 'class': 'DSM'})])"
      ]
     },
     "execution_count": 45,
     "metadata": {},
     "output_type": "execute_result"
    }
   ],
   "source": [
    "d12.items()"
   ]
  },
  {
   "cell_type": "code",
   "execution_count": null,
   "id": "34c67d87-c938-4db0-8cdf-9f7ffd2f3e15",
   "metadata": {},
   "outputs": [],
   "source": []
  }
 ],
 "metadata": {
  "kernelspec": {
   "display_name": "Python 3 (ipykernel)",
   "language": "python",
   "name": "python3"
  },
  "language_info": {
   "codemirror_mode": {
    "name": "ipython",
    "version": 3
   },
   "file_extension": ".py",
   "mimetype": "text/x-python",
   "name": "python",
   "nbconvert_exporter": "python",
   "pygments_lexer": "ipython3",
   "version": "3.10.8"
  }
 },
 "nbformat": 4,
 "nbformat_minor": 5
}
