{
 "cells": [
  {
   "cell_type": "code",
   "execution_count": 10,
   "id": "f1fd0be4-4386-413e-b16e-5e13d61a27fe",
   "metadata": {},
   "outputs": [],
   "source": [
    "'''The def keyword\n",
    "The def keyword is used to create, (or define) a function.'''\n",
    "def oddno(n):\n",
    "    for i in range(n): \n",
    "        if i%2!=0:\n",
    "            print(i)"
   ]
  },
  {
   "cell_type": "code",
   "execution_count": 12,
   "id": "ffc2f0e1-6067-49d2-8ca4-97adc7286b6b",
   "metadata": {},
   "outputs": [
    {
     "name": "stdout",
     "output_type": "stream",
     "text": [
      "1\n",
      "3\n",
      "5\n",
      "7\n",
      "9\n",
      "11\n",
      "13\n",
      "15\n",
      "17\n",
      "19\n",
      "21\n",
      "23\n"
     ]
    }
   ],
   "source": [
    "oddno(25)"
   ]
  },
  {
   "cell_type": "code",
   "execution_count": 9,
   "id": "d866217f-bf4f-401d-9b34-06d25eeaa028",
   "metadata": {},
   "outputs": [],
   "source": []
  },
  {
   "cell_type": "code",
   "execution_count": 13,
   "id": "c0736c74-aa1c-4b4e-96d7-99e6e9750c7a",
   "metadata": {},
   "outputs": [],
   "source": [
    "'''You can use *args and **kwargs as arguments of a function when you are unsure \n",
    "about the number of arguments to pass in the functions.'''\n",
    "def test1(*args):\n",
    "    return args"
   ]
  },
  {
   "cell_type": "code",
   "execution_count": 14,
   "id": "c8974bf3-1880-455d-a2e6-4aff395e91bf",
   "metadata": {},
   "outputs": [
    {
     "data": {
      "text/plain": [
       "(2,)"
      ]
     },
     "execution_count": 14,
     "metadata": {},
     "output_type": "execute_result"
    }
   ],
   "source": [
    "test1(2)"
   ]
  },
  {
   "cell_type": "code",
   "execution_count": 15,
   "id": "c30dee5f-e6b1-4947-8e15-30f905893c3d",
   "metadata": {},
   "outputs": [
    {
     "data": {
      "text/plain": [
       "(1, 1, 2, 3)"
      ]
     },
     "execution_count": 15,
     "metadata": {},
     "output_type": "execute_result"
    }
   ],
   "source": [
    "test1(1,1,2,3)"
   ]
  },
  {
   "cell_type": "code",
   "execution_count": 16,
   "id": "670b5f12-5b77-427d-8ab7-cce1bfe0d6a2",
   "metadata": {},
   "outputs": [],
   "source": [
    "def test5(**kwargs):\n",
    "    return kwargs"
   ]
  },
  {
   "cell_type": "code",
   "execution_count": 17,
   "id": "d23eef86-22ba-4276-9789-7d34de2a4ef7",
   "metadata": {},
   "outputs": [
    {
     "data": {
      "text/plain": [
       "{'a': 'jatin', 'b': 22}"
      ]
     },
     "execution_count": 17,
     "metadata": {},
     "output_type": "execute_result"
    }
   ],
   "source": [
    "test5(a=\"jatin\",b=22)"
   ]
  },
  {
   "cell_type": "code",
   "execution_count": null,
   "id": "66bd7765-809c-4969-9cf6-8441420672d0",
   "metadata": {},
   "outputs": [],
   "source": []
  },
  {
   "cell_type": "code",
   "execution_count": null,
   "id": "c607368b-ab54-4748-88ba-2d9241799438",
   "metadata": {},
   "outputs": [],
   "source": [
    "an iterator is an object that allows you to iterate over collections of data, such as lists, \n",
    "tuples, dictionaries, and sets. Python iterators implement the iterator design pattern,\n",
    "which allows you to traverse a container and access its elements.\n",
    "Iter() method is used to initialize the iterator object so that the instance of this object can be used for iterating"
   ]
  },
  {
   "cell_type": "code",
   "execution_count": 19,
   "id": "317063f7-0027-4eab-b5d0-260cade3a140",
   "metadata": {},
   "outputs": [
    {
     "name": "stdout",
     "output_type": "stream",
     "text": [
      "2\n"
     ]
    }
   ],
   "source": [
    "l=[2, 4, 6, 8, 10, 12, 14, 16, 18, 20]\n",
    "iterator=iter(l)\n",
    "print(next(iterator,))\n"
   ]
  },
  {
   "cell_type": "code",
   "execution_count": null,
   "id": "5e9ba199-5e4e-41de-bae1-57b648c96629",
   "metadata": {},
   "outputs": [],
   "source": []
  },
  {
   "cell_type": "code",
   "execution_count": 13,
   "id": "cc70d2e0-fadd-4898-a1f0-12e0d220596e",
   "metadata": {},
   "outputs": [],
   "source": [
    "'''What Is a Python Generator Function? \n",
    "A Python generator function allows you to declare a function that behaves like an iterator,\n",
    "providing a faster and easier way to create iterators.\n",
    "They can be used on an abstract container of data to turn it into an iterable object like lists, dictionaries and strings.\n",
    "the yield keyword will convert an expression that is specified along with it\n",
    "to a generator object and return it to the caller. Hence,\n",
    "if you want to get the values stored inside the generator object, you need to iterate over it'''\n",
    "def test_fib(n) :\n",
    "    a,b = 0,1\n",
    "    for i in range(n):\n",
    "        yield a \n",
    "        a,b = b ,a+b "
   ]
  },
  {
   "cell_type": "code",
   "execution_count": 14,
   "id": "0c9d8d5d-4f0f-4b9e-9266-96bf44302e8d",
   "metadata": {},
   "outputs": [
    {
     "data": {
      "text/plain": [
       "<generator object test_fib at 0x7f5d3de0ceb0>"
      ]
     },
     "execution_count": 14,
     "metadata": {},
     "output_type": "execute_result"
    }
   ],
   "source": [
    "test_fib(10)"
   ]
  },
  {
   "cell_type": "code",
   "execution_count": 15,
   "id": "a45ecfcf-907b-49ce-a2f7-2292338b0f7d",
   "metadata": {},
   "outputs": [
    {
     "name": "stdout",
     "output_type": "stream",
     "text": [
      "0\n",
      "1\n",
      "1\n",
      "2\n",
      "3\n",
      "5\n",
      "8\n",
      "13\n",
      "21\n",
      "34\n"
     ]
    }
   ],
   "source": [
    "for i in test_fib(10) : \n",
    "    print(i)"
   ]
  },
  {
   "cell_type": "code",
   "execution_count": null,
   "id": "c50e7835-feb1-4370-8347-6e505b47a08c",
   "metadata": {},
   "outputs": [],
   "source": []
  },
  {
   "cell_type": "code",
   "execution_count": 1,
   "id": "bc64cb24-6ac9-4f0a-8798-1396226287e2",
   "metadata": {},
   "outputs": [
    {
     "name": "stdout",
     "output_type": "stream",
     "text": [
      "2\n",
      "3\n",
      "5\n",
      "7\n",
      "11\n",
      "13\n",
      "17\n",
      "19\n",
      "23\n",
      "29\n",
      "31\n",
      "37\n",
      "41\n",
      "43\n",
      "47\n",
      "53\n",
      "59\n",
      "61\n",
      "67\n",
      "71\n"
     ]
    }
   ],
   "source": [
    "def primes():\n",
    "    \"\"\"Generator function that yields prime numbers less than 1000\"\"\"\n",
    "    sieve = [True] * 1000\n",
    "    for i in range(2, 1000):\n",
    "        if sieve[i]:\n",
    "            yield i\n",
    "            for j in range(i*i, 1000, i):\n",
    "                sieve[j] = False\n",
    "\n",
    "# Use the generator function and the next() method to print the first 20 prime numbers\n",
    "prime_generator = primes()\n",
    "for i in range(20):\n",
    "    print(next(prime_generator))"
   ]
  },
  {
   "cell_type": "code",
   "execution_count": null,
   "id": "df74d066-3a46-4968-99e3-9aa90cc6010d",
   "metadata": {},
   "outputs": [],
   "source": []
  },
  {
   "cell_type": "code",
   "execution_count": null,
   "id": "d70504c8-9a1b-453a-a1dc-1379d0bb59d3",
   "metadata": {},
   "outputs": [],
   "source": []
  }
 ],
 "metadata": {
  "kernelspec": {
   "display_name": "Python 3 (ipykernel)",
   "language": "python",
   "name": "python3"
  },
  "language_info": {
   "codemirror_mode": {
    "name": "ipython",
    "version": 3
   },
   "file_extension": ".py",
   "mimetype": "text/x-python",
   "name": "python",
   "nbconvert_exporter": "python",
   "pygments_lexer": "ipython3",
   "version": "3.10.8"
  }
 },
 "nbformat": 4,
 "nbformat_minor": 5
}
