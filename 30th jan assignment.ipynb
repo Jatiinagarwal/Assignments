{
 "cells": [
  {
   "cell_type": "code",
   "execution_count": 1,
   "id": "9a5dcd72-b0fe-40fc-8bd3-015744ab4e32",
   "metadata": {},
   "outputs": [
    {
     "name": "stdin",
     "output_type": "stream",
     "text": [
      "enter the marks 99\n"
     ]
    },
    {
     "name": "stdout",
     "output_type": "stream",
     "text": [
      "A\n"
     ]
    }
   ],
   "source": [
    "marks=int(input(\"enter the marks\"))\n",
    "if marks<0 or marks>100:\n",
    "    print(\"wrong input\")\n",
    "elif marks>90:\n",
    "    print(\"A\")\n",
    "elif marks>80 and marks<=90:\n",
    "    print(\"B\")\n",
    "elif marks>=60 and marks<=80:\n",
    "    print(\"C\")\n",
    "else:\n",
    "    print(\"D\")"
   ]
  },
  {
   "cell_type": "code",
   "execution_count": null,
   "id": "685021c6-1e6e-4e0e-81a9-627bf1d0e555",
   "metadata": {},
   "outputs": [],
   "source": []
  },
  {
   "cell_type": "code",
   "execution_count": 2,
   "id": "2c77ee80-d8f2-4875-9442-efc9645e17e5",
   "metadata": {},
   "outputs": [
    {
     "name": "stdin",
     "output_type": "stream",
     "text": [
      "enter the cost of bike 3600000\n"
     ]
    },
    {
     "name": "stdout",
     "output_type": "stream",
     "text": [
      "540000.0\n"
     ]
    }
   ],
   "source": [
    "cost=int(input(\"enter the cost of bike\"))\n",
    "if cost>100000:\n",
    "    print((cost*15)/100)\n",
    "elif cost>50000 and cost<=100000:\n",
    "    print((cost*10)/100)\n",
    "elif cost<=50000:\n",
    "    print((cost*5)/100)\n",
    "else:\n",
    "    print(\"no tax\")"
   ]
  },
  {
   "cell_type": "code",
   "execution_count": null,
   "id": "f432303c-eeb7-4416-9377-be56f1e6aa85",
   "metadata": {},
   "outputs": [],
   "source": []
  },
  {
   "cell_type": "code",
   "execution_count": 3,
   "id": "e1ac0402-1e22-4e99-b000-0ff450e64839",
   "metadata": {},
   "outputs": [
    {
     "name": "stdin",
     "output_type": "stream",
     "text": [
      "enter the city agra\n"
     ]
    },
    {
     "name": "stdout",
     "output_type": "stream",
     "text": [
      "taj mahal\n"
     ]
    }
   ],
   "source": [
    "cityinput=input(\"enter the city\")\n",
    "city={\"delhi\":\"red fort\",\"agra\":\"taj mahal\",\"jaipur\":\"jal mahal\"}\n",
    "if cityinput in city:\n",
    "    print(city[cityinput])\n",
    "else:\n",
    "    print(\"city is not listed\")"
   ]
  },
  {
   "cell_type": "code",
   "execution_count": null,
   "id": "19a4d746-02ca-4fb9-8176-cab8279e1d3f",
   "metadata": {},
   "outputs": [],
   "source": []
  },
  {
   "cell_type": "code",
   "execution_count": 4,
   "id": "1d16e4f0-fc62-4c0c-879e-ac9fcd5c66d9",
   "metadata": {},
   "outputs": [
    {
     "name": "stdout",
     "output_type": "stream",
     "text": [
      "0\n",
      "1\n",
      "2\n",
      "3\n"
     ]
    }
   ],
   "source": [
    "count=0\n",
    "for i in range(0,11):\n",
    "    if i%3==0:\n",
    "        print(count)\n",
    "        count=count+1"
   ]
  },
  {
   "cell_type": "code",
   "execution_count": null,
   "id": "b2695f6c-7239-448b-9ead-3be4b93f8ad7",
   "metadata": {},
   "outputs": [],
   "source": []
  },
  {
   "cell_type": "code",
   "execution_count": 5,
   "id": "c15a80ec-042a-4d38-8127-f2408e90302e",
   "metadata": {},
   "outputs": [
    {
     "name": "stdout",
     "output_type": "stream",
     "text": [
      "1\n",
      "2\n",
      "3\n",
      "4\n",
      "5\n"
     ]
    }
   ],
   "source": [
    "#Python while loop is used to run a block code until a certain condition is met\n",
    "# program to display numbers from 1 to 5\n",
    "\n",
    "# initialize the variable\n",
    "i = 1\n",
    "n = 5\n",
    "\n",
    "# while loop from i = 1 to 5\n",
    "while i <= n:\n",
    "    print(i)\n",
    "    i = i + 1"
   ]
  },
  {
   "cell_type": "code",
   "execution_count": null,
   "id": "a6ba81f0-60af-43db-abbb-f7a196983922",
   "metadata": {},
   "outputs": [],
   "source": []
  },
  {
   "cell_type": "code",
   "execution_count": null,
   "id": "ad6fa095-2a28-4713-8aca-64f96bc9ae58",
   "metadata": {},
   "outputs": [],
   "source": [
    "## Nested loops\n",
    "n=7\n",
    "\n",
    "for i in range(0,n):\n",
    "    for j in range(0,i+1):\n",
    "        print(\"*\",end=\" \")\n",
    "    print(\"\\r\")"
   ]
  }
 ],
 "metadata": {
  "kernelspec": {
   "display_name": "Python 3 (ipykernel)",
   "language": "python",
   "name": "python3"
  },
  "language_info": {
   "codemirror_mode": {
    "name": "ipython",
    "version": 3
   },
   "file_extension": ".py",
   "mimetype": "text/x-python",
   "name": "python",
   "nbconvert_exporter": "python",
   "pygments_lexer": "ipython3",
   "version": "3.10.8"
  }
 },
 "nbformat": 4,
 "nbformat_minor": 5
}
